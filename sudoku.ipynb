{
  "nbformat": 4,
  "nbformat_minor": 0,
  "metadata": {
    "colab": {
      "name": "sudoku.ipynb",
      "provenance": [],
      "authorship_tag": "ABX9TyM5PAzQ9HGxCbUVGXExHGhl",
      "include_colab_link": true
    },
    "kernelspec": {
      "name": "python3",
      "display_name": "Python 3"
    }
  },
  "cells": [
    {
      "cell_type": "markdown",
      "metadata": {
        "id": "view-in-github",
        "colab_type": "text"
      },
      "source": [
        "<a href=\"https://colab.research.google.com/github/saisandeep12/Udacity/blob/master/sudoku.ipynb\" target=\"_parent\"><img src=\"https://colab.research.google.com/assets/colab-badge.svg\" alt=\"Open In Colab\"/></a>"
      ]
    },
    {
      "cell_type": "code",
      "metadata": {
        "id": "uAG9GjhA_RYW",
        "colab_type": "code",
        "colab": {}
      },
      "source": [
        "grid=[[5,3,0,0,7,0,0,0,0],\n",
        "      [6,0,0,1,9,5,0,0,0],\n",
        "      [0,9,8,0,0,0,0,6,0],\n",
        "      [8,0,0,0,6,0,0,0,3],\n",
        "      [4,0,0,8,0,3,0,0,1],\n",
        "      [7,0,0,0,2,0,0,0,6],\n",
        "      [0,6,0,0,0,0,2,8,0],\n",
        "      [0,0,0,4,1,9,0,0,5],\n",
        "      [0,0,0,0,8,0,0,7,9]]"
      ],
      "execution_count": 0,
      "outputs": []
    },
    {
      "cell_type": "code",
      "metadata": {
        "id": "iQxFivx4_aPe",
        "colab_type": "code",
        "outputId": "8c571d9d-2017-433a-cd8e-1addeaeddc71",
        "colab": {
          "base_uri": "https://localhost:8080/",
          "height": 54
        }
      },
      "source": [
        "print(grid)"
      ],
      "execution_count": 3,
      "outputs": [
        {
          "output_type": "stream",
          "text": [
            "[[5, 3, 0, 0, 7, 0, 0, 0, 0], [6, 0, 0, 1, 9, 5, 0, 0, 0], [0, 9, 8, 0, 0, 0, 0, 6, 0], [8, 0, 0, 0, 6, 0, 0, 0, 3], [4, 0, 0, 8, 0, 3, 0, 0, 1], [7, 0, 0, 0, 2, 0, 0, 0, 6], [0, 6, 0, 0, 0, 0, 2, 8, 0], [0, 0, 0, 4, 1, 9, 0, 0, 5], [0, 0, 0, 0, 8, 0, 0, 7, 9]]\n"
          ],
          "name": "stdout"
        }
      ]
    },
    {
      "cell_type": "code",
      "metadata": {
        "id": "i_fPoJ68_fQT",
        "colab_type": "code",
        "outputId": "e0850c48-1dbd-492e-a21d-4099ff3f2637",
        "colab": {
          "base_uri": "https://localhost:8080/",
          "height": 168
        }
      },
      "source": [
        "import numpy as np\n",
        "print(np.matrix(grid))"
      ],
      "execution_count": 4,
      "outputs": [
        {
          "output_type": "stream",
          "text": [
            "[[5 3 0 0 7 0 0 0 0]\n",
            " [6 0 0 1 9 5 0 0 0]\n",
            " [0 9 8 0 0 0 0 6 0]\n",
            " [8 0 0 0 6 0 0 0 3]\n",
            " [4 0 0 8 0 3 0 0 1]\n",
            " [7 0 0 0 2 0 0 0 6]\n",
            " [0 6 0 0 0 0 2 8 0]\n",
            " [0 0 0 4 1 9 0 0 5]\n",
            " [0 0 0 0 8 0 0 7 9]]\n"
          ],
          "name": "stdout"
        }
      ]
    },
    {
      "cell_type": "code",
      "metadata": {
        "id": "J8uULdjh_kMm",
        "colab_type": "code",
        "colab": {}
      },
      "source": [
        "def pos(y,x,n):\n",
        "  for i in range(0,9):\n",
        "    if grid[y][i]==n:\n",
        "      return False\n",
        "  for i in range(0,9):\n",
        "    if grid[i][x]==n:\n",
        "      return False\n",
        "  x0=(x//3)*3\n",
        "  y0=(y//3)*3\n",
        "  for i in range(0,3):\n",
        "    for j in range(0,3):\n",
        "      if grid[y0+j][x0+i]==n:\n",
        "        return False \n",
        "  return True                 "
      ],
      "execution_count": 0,
      "outputs": []
    },
    {
      "cell_type": "code",
      "metadata": {
        "id": "2dKIwYYSAaY9",
        "colab_type": "code",
        "outputId": "b64a87c6-14b4-4c85-ace6-4ef440ee4ecd",
        "colab": {
          "base_uri": "https://localhost:8080/",
          "height": 34
        }
      },
      "source": [
        "pos(4,4,1)"
      ],
      "execution_count": 10,
      "outputs": [
        {
          "output_type": "execute_result",
          "data": {
            "text/plain": [
              "False"
            ]
          },
          "metadata": {
            "tags": []
          },
          "execution_count": 10
        }
      ]
    },
    {
      "cell_type": "code",
      "metadata": {
        "id": "6iok4uA_Ajmy",
        "colab_type": "code",
        "colab": {
          "base_uri": "https://localhost:8080/",
          "height": 168
        },
        "outputId": "530d875b-d78b-4e47-df16-16cd3f1eea3d"
      },
      "source": [
        "def solve():\n",
        "  global grid\n",
        "  #print(grid)\n",
        "  for y in range(9):\n",
        "    for x in range(9):\n",
        "      if grid[y][x]==0:\n",
        "        for n in range(1,10):\n",
        "          if pos(y,x,n):\n",
        "            grid[y][x]=n\n",
        "            solve()\n",
        "            grid[y][x]=0\n",
        "        return \n",
        "  print(np.matrix(grid))            \n",
        "         \n",
        "\n",
        "solve()\n",
        "\n"
      ],
      "execution_count": 11,
      "outputs": [
        {
          "output_type": "stream",
          "text": [
            "[[8 1 2 7 5 3 6 4 9]\n",
            " [9 4 3 6 8 2 1 7 5]\n",
            " [6 7 5 4 9 1 2 8 3]\n",
            " [1 5 4 2 3 7 8 9 6]\n",
            " [3 6 9 8 4 5 7 2 1]\n",
            " [2 8 7 1 6 9 5 3 4]\n",
            " [5 2 1 9 7 4 3 6 8]\n",
            " [4 3 8 5 2 6 9 1 7]\n",
            " [7 9 6 3 1 8 4 5 2]]\n"
          ],
          "name": "stdout"
        }
      ]
    },
    {
      "cell_type": "code",
      "metadata": {
        "id": "uN918aF3BcrG",
        "colab_type": "code",
        "colab": {}
      },
      "source": [
        "grid=[[8,0,0,0,0,0,0,0,0],\n",
        "      [0,0,3,6,0,0,0,0,0],\n",
        "      [0,7,0,0,9,0,2,0,0],\n",
        "      [0,5,0,0,0,7,0,0,0],\n",
        "      [0,0,0,0,4,5,7,0,0],\n",
        "      [0,0,0,1,0,0,0,3,0],\n",
        "      [0,0,1,0,0,0,0,6,8],\n",
        "      [0,0,8,5,0,0,0,1,0],\n",
        "      [0,9,0,0,0,0,4,0,0]]"
      ],
      "execution_count": 0,
      "outputs": []
    },
    {
      "cell_type": "code",
      "metadata": {
        "id": "ByAACDClBeHZ",
        "colab_type": "code",
        "colab": {}
      },
      "source": [
        ""
      ],
      "execution_count": 0,
      "outputs": []
    }
  ]
}